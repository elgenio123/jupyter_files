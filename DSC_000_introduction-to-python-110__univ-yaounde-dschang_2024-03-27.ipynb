{
 "cells": [
  {
   "cell_type": "markdown",
   "id": "b456c6aa",
   "metadata": {},
   "source": [
    "<a name='page-top'></a>\n",
    "<a href=\"https://www.univ-dschang.org/\"><font size=3.0 color=#29465B><u>University of Dschang</u></font></a>\n",
    "<ul>\n",
    "<li><font size=3.0 color='darkcyan'>University Institute of Technology, Fotso Victor (<a href=\"https://www.univ-dschang.org/university-institute-technology-fotso-victor-bandjoun/\">IUT-FV</a>), Bandjoun</font>\n",
    "</li>\n",
    "<!--   -->\n",
    "<li><font size=3.0 color='darkcyan'>Department of <a href=\"https://fs.univ-dschang.org/mathematique-informatique/\">Mathematics and Computer Science</a></font>\n",
    "</li>\n",
    "</ul>\n",
    "\n",
    "<!-- ////////// ////////// ////////// -->\n",
    "\n",
    "<a href=\"https://uy1.uninet.cm/\"><font size=3.0 color=#29465B><u>University of Yaoundé (I)</u></font></a>\n",
    "<ul>\n",
    "<li><font size=3.0 color='darkcyan'>École Nationale Supérieure Polytechnique de Yaoundé (<a href=\"https://polytechnique.cm/\">ENSPY</a>)</font>\n",
    "</li>\n",
    "<!--   -->\n",
    "<li><font size=3.0 color='darkcyan'> <a href=\"https://facsciences.uy1.cm/\">Faculty of Sciences</a>, Department of Computer Science</font>\n",
    "</li>\n",
    "</ul>\n",
    "\n",
    "<!-- ////////// ////////// ////////// -->\n",
    "\n",
    "<font size=3 color=#79443B>Data-Science, Financial Engineering, and Python Programming</font>\n",
    "\n",
    "#### <font color=#79443B>Tutorial</font> (0. Part #1): <font color=#536872>Introduction to Python Programming</font>\n",
    "\n",
    "<ol>\n",
    "<li><a href='#list-of-integers'>List of: integers</a></li>\n",
    "<li><a href='#list-of-consecutive-integers'>List of: consecutive integers</a></li>\n",
    "<li>List of: characters</li>\n",
    "<li>List of: strings of characters</li>\n",
    "<li>Variables of type: dictionary</li>\n",
    "</ol>\n",
    "\n",
    "..............................................................................................................................................................................................\n",
    "\n",
    "<a name='contact-info'></a>\n",
    "####  <font color=#29465B>Contact</font> <font color='darkcyan'>information</font>\n",
    "\n",
    "Lecturer:\n",
    "<b>Dr.</b> <font size=2.5 color=#CB4154><b>Janvier NZEUTCHAP</b></font>\n",
    "\n",
    "Email: <a href=\"\">not-available-for-the-moment</a>"
   ]
  },
  {
   "cell_type": "markdown",
   "id": "f07a831d",
   "metadata": {},
   "source": [
    "<a name='import-libraries'></a>\n",
    "####  <font color=#29465B>Importing</font> <font color='darkcyan'>libraries</font>"
   ]
  },
  {
   "cell_type": "code",
   "execution_count": 1,
   "id": "efe00b01",
   "metadata": {},
   "outputs": [
    {
     "name": "stdout",
     "output_type": "stream",
     "text": [
      ">> DONE!\n"
     ]
    }
   ],
   "source": [
    "# this line is a 'comment'\n",
    "\n",
    "## this line is a 'comment'\n",
    "\n",
    "## NO libraries to import in this session\n",
    "\n",
    "'''\n",
    "These are comments\n",
    "the comments are on multiple consecutive lines\n",
    "\n",
    "Here is the last line of consecutive comments\n",
    "'''\n",
    "\n",
    "## ........................................\n",
    "print(\">> DONE!\")"
   ]
  },
  {
   "cell_type": "markdown",
   "id": "c18595d7",
   "metadata": {},
   "source": [
    "<a name='list-of-integers'></a>\n",
    "#### <font color='darkcyan'>List</font> of <font color=#79443B>integers</font>\n",
    "\n",
    "<ol>\n",
    "<li>List of integers</li>\n",
    "<li><a href='#list-of-consecutive-integers'>List of: consecutive-integers</a></li>\n",
    "</ol>\n",
    "\n",
    "  <a href='#page-top'>page-top</a>\n",
    "| list-of-integers\n",
    "&nbsp;\n",
    "| <a href='#first-values'>first-values</a>\n",
    "| <a href='#first-N-values'>first-N-values</a>\n",
    "| <a href='#consecutive-values'>consecutive-values</a>\n",
    "| <a href='#print-all-values'>print-values</a>\n",
    "| <a href='#reverse-order'>reverse-order</a>"
   ]
  },
  {
   "cell_type": "code",
   "execution_count": null,
   "id": "a2f063c2",
   "metadata": {},
   "outputs": [],
   "source": []
  },
  {
   "cell_type": "code",
   "execution_count": null,
   "id": "1b317e10",
   "metadata": {},
   "outputs": [],
   "source": []
  },
  {
   "cell_type": "code",
   "execution_count": null,
   "id": "96e5f444",
   "metadata": {},
   "outputs": [],
   "source": []
  },
  {
   "cell_type": "code",
   "execution_count": null,
   "id": "ea8c5ab9",
   "metadata": {},
   "outputs": [],
   "source": []
  },
  {
   "cell_type": "code",
   "execution_count": null,
   "id": "853067f8",
   "metadata": {},
   "outputs": [],
   "source": []
  },
  {
   "cell_type": "code",
   "execution_count": null,
   "id": "943b592a",
   "metadata": {},
   "outputs": [],
   "source": []
  },
  {
   "cell_type": "code",
   "execution_count": null,
   "id": "fd8eb075",
   "metadata": {},
   "outputs": [],
   "source": []
  },
  {
   "cell_type": "markdown",
   "id": "72cacdb0",
   "metadata": {},
   "source": [
    "<a name='first-values'></a>\n",
    "#### First and last values\n",
    "\n",
    "  <a href='#page-top'>page-top</a>\n",
    "| <a href='#list-of-integers'>list-of-integers</a>\n",
    "&nbsp;\n",
    "| first-values\n",
    "| <a href='#first-N-values'>first-N-values</a>\n",
    "| <a href='#consecutive-values'>consecutive-values</a>\n",
    "| <a href='#print-all-values'>print-values</a>\n",
    "| <a href='#reverse-order'>reverse-order</a>\n",
    "| <a href='#list-of-integers-sorting'>sorting</a>"
   ]
  },
  {
   "cell_type": "code",
   "execution_count": null,
   "id": "c3c8a448",
   "metadata": {},
   "outputs": [],
   "source": []
  },
  {
   "cell_type": "code",
   "execution_count": null,
   "id": "491a595e",
   "metadata": {},
   "outputs": [],
   "source": []
  },
  {
   "cell_type": "code",
   "execution_count": null,
   "id": "49b1ef28",
   "metadata": {},
   "outputs": [],
   "source": []
  },
  {
   "cell_type": "code",
   "execution_count": null,
   "id": "5e3554ff",
   "metadata": {},
   "outputs": [],
   "source": []
  },
  {
   "cell_type": "markdown",
   "id": "247d0b94",
   "metadata": {},
   "source": [
    "<a name='first-N-values'></a>\n",
    "#### First N values\n",
    "\n",
    "  <a href='#page-top'>page-top</a>\n",
    "| <a href='#list-of-integers'>list-of-integers</a>\n",
    "&nbsp;\n",
    "| <a href='#first-values'>first-values</a>\n",
    "| first-N-values\n",
    "| <a href='#consecutive-values'>consecutive-values</a>\n",
    "| <a href='#print-all-values'>print-values</a>\n",
    "| <a href='#reverse-order'>reverse-order</a>\n",
    "| <a href='#list-of-integers-sorting'>sorting</a>"
   ]
  },
  {
   "cell_type": "code",
   "execution_count": null,
   "id": "5ce5eafd",
   "metadata": {},
   "outputs": [],
   "source": []
  },
  {
   "cell_type": "markdown",
   "id": "a1416eca",
   "metadata": {},
   "source": [
    "#### Last N values"
   ]
  },
  {
   "cell_type": "code",
   "execution_count": null,
   "id": "d715c6e0",
   "metadata": {},
   "outputs": [],
   "source": []
  },
  {
   "cell_type": "markdown",
   "id": "f04dffdd",
   "metadata": {},
   "source": [
    "<a name='consecutive-values'></a>\n",
    "#### Consecutive values\n",
    "\n",
    "  <a href='#page-top'>page-top</a>\n",
    "| <a href='#list-of-integers'>list-of-integers</a>\n",
    "&nbsp;\n",
    "| <a href='#first-values'>first-values</a>\n",
    "| <a href='#first-N-values'>first-N-values</a>\n",
    "| consecutive-values\n",
    "| <a href='#print-all-values'>print-values</a>\n",
    "| <a href='#reverse-order'>reverse-order</a>\n",
    "| <a href='#list-of-integers-sorting'>sorting</a>"
   ]
  },
  {
   "cell_type": "code",
   "execution_count": null,
   "id": "cfc308d0",
   "metadata": {},
   "outputs": [],
   "source": []
  },
  {
   "cell_type": "code",
   "execution_count": null,
   "id": "c06768d9",
   "metadata": {},
   "outputs": [],
   "source": []
  },
  {
   "cell_type": "code",
   "execution_count": null,
   "id": "3d619ad1",
   "metadata": {},
   "outputs": [],
   "source": []
  },
  {
   "cell_type": "markdown",
   "id": "568b19d4",
   "metadata": {},
   "source": [
    "<a name='print-all-values'></a>\n",
    "#### Print all values\n",
    "\n",
    "  <a href='#page-top'>page-top</a>\n",
    "| <a href='#list-of-integers'>list-of-integers</a>\n",
    "&nbsp;\n",
    "| <a href='#first-values'>first-values</a>\n",
    "| <a href='#first-N-values'>first-N-values</a>\n",
    "| <a href='#consecutive-values'>consecutive-values</a>\n",
    "| print-values\n",
    "| <a href='#reverse-order'>reverse-order</a>\n",
    "| <a href='#list-of-integers-sorting'>sorting</a>"
   ]
  },
  {
   "cell_type": "code",
   "execution_count": null,
   "id": "bda4d6d4",
   "metadata": {},
   "outputs": [],
   "source": []
  },
  {
   "cell_type": "markdown",
   "id": "181a4c62",
   "metadata": {},
   "source": [
    "#### Aligning the outputs"
   ]
  },
  {
   "cell_type": "code",
   "execution_count": null,
   "id": "7cb063b3",
   "metadata": {},
   "outputs": [],
   "source": []
  },
  {
   "cell_type": "markdown",
   "id": "600a7cc7",
   "metadata": {},
   "source": [
    "<a name='reverse-order'></a>\n",
    "#### Print in reverse order\n",
    "\n",
    "In the cell below, the original list is preserved, but its elements are printed in reverse order.\n",
    "\n",
    "  <a href='#page-top'>page-top</a>\n",
    "| <a href='#list-of-integers'>list-of-integers</a>\n",
    "&nbsp;\n",
    "| <a href='#first-values'>first-values</a>\n",
    "| <a href='#first-N-values'>first-N-values</a>\n",
    "| <a href='#consecutive-values'>consecutive-values</a>\n",
    "| <a href='#print-all-values'>print-values</a>\n",
    "| reverse-order\n",
    "| <a href='#list-of-integers-sorting'>sorting</a>"
   ]
  },
  {
   "cell_type": "code",
   "execution_count": null,
   "id": "1329047e",
   "metadata": {},
   "outputs": [],
   "source": []
  },
  {
   "cell_type": "markdown",
   "id": "325eda1f",
   "metadata": {},
   "source": [
    "#### Reversed list\n",
    "\n",
    "In the cell below, the original list is reversed, and its elements are printed."
   ]
  },
  {
   "cell_type": "code",
   "execution_count": null,
   "id": "b1483f09",
   "metadata": {},
   "outputs": [],
   "source": []
  },
  {
   "cell_type": "code",
   "execution_count": null,
   "id": "0e4951b3",
   "metadata": {},
   "outputs": [],
   "source": []
  },
  {
   "cell_type": "markdown",
   "id": "d6934027",
   "metadata": {},
   "source": [
    "<a name='list-of-integers-sorting'></a>\n",
    "#### Sorting in  <font color='darkcyan'>increasing</font> <font color=#79443B>order</font>: <font color='violet'>(inplace)</font>\n",
    "\n",
    "In the cell below, the original list is sorted without copying; so the initial list cannot be recovered.\n",
    "\n",
    "  <a href='#page-top'>page-top</a>\n",
    "| <a href='#list-of-integers'>list-of-integers</a>\n",
    "&nbsp;\n",
    "| <a href='#first-values'>first-values</a>\n",
    "| <a href='#first-N-values'>first-N-values</a>\n",
    "| <a href='#consecutive-values'>consecutive-values</a>\n",
    "| <a href='#print-all-values'>print-values</a>\n",
    "| <a href='#reverse-order'>reverse-order</a>\n",
    "| sorting"
   ]
  },
  {
   "cell_type": "code",
   "execution_count": null,
   "id": "ab5eb061",
   "metadata": {},
   "outputs": [],
   "source": []
  },
  {
   "cell_type": "markdown",
   "id": "c6757906",
   "metadata": {},
   "source": [
    "#### Sorting in  <font color='darkcyan'>decreasing</font> <font color=#79443B>order</font>: <font color='violet'>(inplace)</font>"
   ]
  },
  {
   "cell_type": "code",
   "execution_count": null,
   "id": "d0a6d328",
   "metadata": {},
   "outputs": [],
   "source": []
  },
  {
   "cell_type": "markdown",
   "id": "edb0ba54",
   "metadata": {},
   "source": [
    "#### Sorting in  <font color='darkcyan'>increasing</font> <font color=#79443B>order</font>: <font color='violet'>(store in a new variable)</font>\n",
    "\n",
    "In the cell below, a copy of the original list is sorted in increasing order.\n",
    "\n",
    "The initial list is preserved."
   ]
  },
  {
   "cell_type": "code",
   "execution_count": null,
   "id": "3f5596a9",
   "metadata": {},
   "outputs": [],
   "source": []
  },
  {
   "cell_type": "code",
   "execution_count": null,
   "id": "9e13c3ae",
   "metadata": {},
   "outputs": [],
   "source": []
  },
  {
   "cell_type": "code",
   "execution_count": null,
   "id": "f77db9a7",
   "metadata": {},
   "outputs": [],
   "source": []
  },
  {
   "cell_type": "code",
   "execution_count": null,
   "id": "c4237806",
   "metadata": {},
   "outputs": [],
   "source": []
  },
  {
   "cell_type": "markdown",
   "id": "6d1bfb9b",
   "metadata": {},
   "source": [
    "#### Sorting in  <font color='darkcyan'>decreasing</font> <font color=#79443B>order</font>: <font color='violet'>(store in a new variable)</font>"
   ]
  },
  {
   "cell_type": "code",
   "execution_count": null,
   "id": "1a49f3ab",
   "metadata": {},
   "outputs": [],
   "source": []
  },
  {
   "cell_type": "code",
   "execution_count": null,
   "id": "d1ca1359",
   "metadata": {},
   "outputs": [],
   "source": []
  },
  {
   "cell_type": "code",
   "execution_count": null,
   "id": "0d221457",
   "metadata": {},
   "outputs": [],
   "source": []
  },
  {
   "cell_type": "code",
   "execution_count": null,
   "id": "fb70c3f6",
   "metadata": {},
   "outputs": [],
   "source": []
  },
  {
   "cell_type": "markdown",
   "id": "4b45c5a9",
   "metadata": {},
   "source": [
    "<a name='list-of-consecutive-integers'></a>\n",
    "<a name='list-of-consecutive-integers-example-1'></a>\n",
    "#### <font color='darkcyan'>List</font> of <font color=#79443B>consecutive</font>  <font color='darkcyan'>integers</font>\n",
    "\n",
    "  <a href='#page-top'>page-top</a>\n",
    "| <a href='#list-of-integers'>list-of-integers</a>\n",
    "| list-of-consecutive-integers\n",
    "» <a href='#list-of-consecutive-integers-example-2'>2nd-example</a>\n",
    "&nbsp;\n",
    "| <a href='#list-of-characters'>list-of-characters</a>\n",
    "| <a href='#list-of-strings-of-characters'>strings-of-characters</a>\n",
    "| <a href='#variables-of-type-dictionary'>dictionary</a>"
   ]
  },
  {
   "cell_type": "code",
   "execution_count": null,
   "id": "bd3d690c",
   "metadata": {},
   "outputs": [],
   "source": []
  },
  {
   "cell_type": "code",
   "execution_count": null,
   "id": "7e6cc71b",
   "metadata": {},
   "outputs": [],
   "source": []
  },
  {
   "cell_type": "code",
   "execution_count": null,
   "id": "06cee921",
   "metadata": {},
   "outputs": [],
   "source": []
  },
  {
   "cell_type": "code",
   "execution_count": null,
   "id": "a8b57388",
   "metadata": {},
   "outputs": [],
   "source": []
  },
  {
   "cell_type": "code",
   "execution_count": null,
   "id": "54cbe904",
   "metadata": {},
   "outputs": [],
   "source": []
  },
  {
   "cell_type": "markdown",
   "id": "e11f434d",
   "metadata": {},
   "source": [
    "<a name='list-of-consecutive-integers-example-2'></a>\n",
    "#### <font color='darkcyan'>List</font> of <font color=#79443B>consecutive</font>  <font color='darkcyan'>integers</font> (<font color='violet'>#2</font>)\n",
    "\n",
    "  <a href='#page-top'>page-top</a>\n",
    "| list-of-consecutive-integers (2nd-example)\n",
    "» (<a href='#list-of-consecutive-integers-example-1'>1rst-example</a>)\n",
    "&nbsp;\n",
    "| <a href='#list-of-characters'>list-of-characters</a>\n",
    "| <a href='#list-of-strings-of-characters'>strings-of-characters</a>\n",
    "| <a href='#variables-of-type-dictionary'>dictionary</a>"
   ]
  },
  {
   "cell_type": "code",
   "execution_count": null,
   "id": "0ec06fa1",
   "metadata": {},
   "outputs": [],
   "source": []
  },
  {
   "cell_type": "code",
   "execution_count": null,
   "id": "7ff3e496",
   "metadata": {},
   "outputs": [],
   "source": []
  },
  {
   "cell_type": "code",
   "execution_count": null,
   "id": "6b320811",
   "metadata": {},
   "outputs": [],
   "source": []
  },
  {
   "cell_type": "code",
   "execution_count": null,
   "id": "fd0f84fc",
   "metadata": {},
   "outputs": [],
   "source": []
  },
  {
   "cell_type": "code",
   "execution_count": null,
   "id": "9ef4f0a2",
   "metadata": {},
   "outputs": [],
   "source": []
  },
  {
   "cell_type": "markdown",
   "id": "786c06d9",
   "metadata": {},
   "source": [
    "#### Last element := n2"
   ]
  },
  {
   "cell_type": "code",
   "execution_count": null,
   "id": "210eac95",
   "metadata": {},
   "outputs": [],
   "source": []
  },
  {
   "cell_type": "code",
   "execution_count": null,
   "id": "6ac930cc",
   "metadata": {},
   "outputs": [],
   "source": []
  },
  {
   "cell_type": "code",
   "execution_count": null,
   "id": "ab4574e5",
   "metadata": {},
   "outputs": [],
   "source": []
  },
  {
   "cell_type": "code",
   "execution_count": null,
   "id": "33cefaeb",
   "metadata": {},
   "outputs": [],
   "source": []
  },
  {
   "cell_type": "code",
   "execution_count": null,
   "id": "a353e662",
   "metadata": {},
   "outputs": [],
   "source": [
    "## TO BE CONTINUED..."
   ]
  }
 ],
 "metadata": {
  "kernelspec": {
   "display_name": "Python 3 (ipykernel)",
   "language": "python",
   "name": "python3"
  },
  "language_info": {
   "codemirror_mode": {
    "name": "ipython",
    "version": 3
   },
   "file_extension": ".py",
   "mimetype": "text/x-python",
   "name": "python",
   "nbconvert_exporter": "python",
   "pygments_lexer": "ipython3",
   "version": "3.11.5"
  }
 },
 "nbformat": 4,
 "nbformat_minor": 5
}
